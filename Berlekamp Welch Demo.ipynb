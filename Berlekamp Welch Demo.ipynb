{
 "cells": [
  {
   "cell_type": "markdown",
   "metadata": {
    "deletable": true,
    "editable": true
   },
   "source": [
    "## Berlekamp Welch Demo\n",
    "\n",
    "Forked from https://github.com/j2kun/welch-berlekamp with modifications to fit the version of algorithm taught in CS70 Spring 2017 in UC Berkeley\n",
    "\n",
    "By Yuxiang Yang\n",
    "\n",
    "Feb.23 2017"
   ]
  },
  {
   "cell_type": "markdown",
   "metadata": {
    "deletable": true,
    "editable": true
   },
   "source": [
    "We start by importing a bunch of stuff:"
   ]
  },
  {
   "cell_type": "code",
   "execution_count": 1,
   "metadata": {
    "collapsed": false,
    "deletable": true,
    "editable": true
   },
   "outputs": [],
   "source": [
    "from copy import deepcopy\n",
    "from welchberlekamp import makeEncoderDecoder\n",
    "from finitefield.finitefield import FiniteField"
   ]
  },
  {
   "cell_type": "markdown",
   "metadata": {
    "deletable": true,
    "editable": true
   },
   "source": [
    "### Now let's specify the message we want to send:\n",
    "$n$: length of message, which is also the order of polynomial<br>\n",
    "$k$: maximum number of errors we can tolerate. Keep in mind, $n+2k$ messages will be send to tolerate $k$ errors.<br>\n",
    "$p$: the finite field we're working on, must be a prime"
   ]
  },
  {
   "cell_type": "code",
   "execution_count": 2,
   "metadata": {
    "collapsed": false,
    "deletable": true,
    "editable": true
   },
   "outputs": [
    {
     "name": "stdout",
     "output_type": "stream",
     "text": [
      "The polynomial encoding the message is:\n",
      "3 + 9 t^1 + 3 t^2\n",
      "The encoded message is:\n",
      "[3 (mod 11), 4 (mod 11), 0 (mod 11), 2 (mod 11), 10 (mod 11)]\n"
     ]
    }
   ],
   "source": [
    "message = [3, 4, 0]\n",
    "n = 3\n",
    "k = 1   # Maximum number we can tolerate\n",
    "p = 11   # We're working on finite field modulo p\n",
    "Fp = FiniteField(p)\n",
    "enc, dec, solveSystem = makeEncoderDecoder(n + 2 * k, n, p)\n",
    "encoded = enc(message)\n",
    "print(\"The encoded message is:\")\n",
    "print(encoded)"
   ]
  },
  {
   "cell_type": "markdown",
   "metadata": {
    "deletable": true,
    "editable": true
   },
   "source": [
    "### Now let's create some general errors by distorting the message\n",
    "Feel free to modify this code block to play around with the algorithm"
   ]
  },
  {
   "cell_type": "code",
   "execution_count": 3,
   "metadata": {
    "collapsed": false,
    "deletable": true,
    "editable": true
   },
   "outputs": [
    {
     "name": "stdout",
     "output_type": "stream",
     "text": [
      "The received message is:\n",
      "[3 (mod 11), 7 (mod 11), 0 (mod 11), 2 (mod 11), 10 (mod 11)]\n"
     ]
    }
   ],
   "source": [
    "received = deepcopy(encoded)\n",
    "received[0]=Fp(3) #Changing a message in received.\n",
    "received[1]=Fp(7) #Changing a message in received.\n",
    "received[2]=Fp(0) #Changing a message in received.\n",
    "received[3]=Fp(2) #Changing a message in received.\n",
    "received[4]=Fp(10) #Changing a message in received.\n",
    "\n",
    "print(\"The received message is:\")\n",
    "print(received)"
   ]
  },
  {
   "cell_type": "markdown",
   "metadata": {
    "deletable": true,
    "editable": true
   },
   "source": [
    "### Now let's decode the message!"
   ]
  },
  {
   "cell_type": "code",
   "execution_count": 4,
   "metadata": {
    "collapsed": false,
    "deletable": true,
    "editable": true
   },
   "outputs": [
    {
     "name": "stdout",
     "output_type": "stream",
     "text": [
      "\n",
      "system is:\n",
      "\n",
      "\n",
      "\t[3 (mod 11), 0 (mod 11), 10 (mod 11), 0 (mod 11), 0 (mod 11), 0 (mod 11), 0]\n",
      "\t[7 (mod 11), 7 (mod 11), 10 (mod 11), 10 (mod 11), 10 (mod 11), 10 (mod 11), 0]\n",
      "\t[0 (mod 11), 0 (mod 11), 10 (mod 11), 9 (mod 11), 7 (mod 11), 3 (mod 11), 0]\n",
      "\t[2 (mod 11), 6 (mod 11), 10 (mod 11), 8 (mod 11), 2 (mod 11), 6 (mod 11), 0]\n",
      "\t[10 (mod 11), 7 (mod 11), 10 (mod 11), 7 (mod 11), 6 (mod 11), 2 (mod 11), 0]\n",
      "\t[0 (mod 11), 1 (mod 11), 0 (mod 11), 0 (mod 11), 0 (mod 11), 0 (mod 11), 1 (mod 11)]\n",
      "\n",
      "reduced system is:\n",
      "\n",
      "\n",
      "\t[1 (mod 11), 0 (mod 11), 0 (mod 11), 0 (mod 11), 0 (mod 11), 0 (mod 11), 10 (mod 11)]\n",
      "\t[0 (mod 11), 1 (mod 11), 0 (mod 11), 0 (mod 11), 0 (mod 11), 0 (mod 11), 1 (mod 11)]\n",
      "\t[0 (mod 11), 0 (mod 11), 1 (mod 11), 0 (mod 11), 0 (mod 11), 0 (mod 11), 8 (mod 11)]\n",
      "\t[0 (mod 11), 0 (mod 11), 0 (mod 11), 1 (mod 11), 0 (mod 11), 0 (mod 11), 5 (mod 11)]\n",
      "\t[0 (mod 11), 0 (mod 11), 0 (mod 11), 0 (mod 11), 1 (mod 11), 0 (mod 11), 6 (mod 11)]\n",
      "\t[0 (mod 11), 0 (mod 11), 0 (mod 11), 0 (mod 11), 0 (mod 11), 1 (mod 11), 3 (mod 11)]\n",
      "solution is [10 (mod 11), 1 (mod 11), 8 (mod 11), 5 (mod 11), 6 (mod 11), 3 (mod 11)]\n",
      "Q is 8 + 5 t^1 + 6 t^2 + 3 t^3\n",
      "E is 10 + 1 t^1\n"
     ]
    },
    {
     "data": {
      "text/plain": [
       "[3 (mod 11), 4 (mod 11), 0 (mod 11)]"
      ]
     },
     "execution_count": 4,
     "metadata": {},
     "output_type": "execute_result"
    }
   ],
   "source": [
    "dec(received)"
   ]
  },
  {
   "cell_type": "code",
   "execution_count": null,
   "metadata": {
    "collapsed": true,
    "deletable": true,
    "editable": true
   },
   "outputs": [],
   "source": []
  },
  {
   "cell_type": "code",
   "execution_count": null,
   "metadata": {
    "collapsed": true,
    "deletable": true,
    "editable": true
   },
   "outputs": [],
   "source": []
  }
 ],
 "metadata": {
  "kernelspec": {
   "display_name": "Python 2",
   "language": "python",
   "name": "python2"
  },
  "language_info": {
   "codemirror_mode": {
    "name": "ipython",
    "version": 2
   },
   "file_extension": ".py",
   "mimetype": "text/x-python",
   "name": "python",
   "nbconvert_exporter": "python",
   "pygments_lexer": "ipython2",
   "version": "2.7.10"
  }
 },
 "nbformat": 4,
 "nbformat_minor": 1
}
