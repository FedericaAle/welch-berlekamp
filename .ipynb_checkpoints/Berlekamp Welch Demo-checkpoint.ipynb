{
 "cells": [
  {
   "cell_type": "markdown",
   "metadata": {},
   "source": [
    "## Berlekamp Welch Demo\n",
    "\n",
    "Forked from https://github.com/j2kun/welch-berlekamp with modifications to fit the version of algorithm taught in CS70 Fall 2016 in UC Berkeley\n",
    "\n",
    "By Davis Yang\n",
    "\n",
    "Oct.6 2016"
   ]
  },
  {
   "cell_type": "markdown",
   "metadata": {},
   "source": [
    "We start by doing defining a bunch of helper functions:"
   ]
  },
  {
   "cell_type": "code",
   "execution_count": 4,
   "metadata": {
    "collapsed": false
   },
   "outputs": [],
   "source": [
    "from copy import deepcopy\n",
    "from welchberlekamp import makeEncoderDecoder\n",
    "from finitefield.finitefield import FiniteField"
   ]
  },
  {
   "cell_type": "markdown",
   "metadata": {},
   "source": [
    "### Now let's specify the message we want to send:\n",
    "$n$: length of message, which is also the order of polynomial<br>\n",
    "$k$: maximum number of errors we can tolerate. Keep in mind, $n+2k$ messages will be send to tolerate $k$ errors.<br>\n",
    "$p$: the finite field we're working on, must be a prime"
   ]
  },
  {
   "cell_type": "code",
   "execution_count": 9,
   "metadata": {
    "collapsed": false
   },
   "outputs": [
    {
     "name": "stdout",
     "output_type": "stream",
     "text": [
      "The polynomial encoding the message is:\n",
      "5 + 1 t^1 + 4 t^2\n",
      "The encoded message is:\n",
      "[5 (mod 7), 3 (mod 7), 2 (mod 7), 2 (mod 7), 3 (mod 7)]\n"
     ]
    }
   ],
   "source": [
    "message = [5,3,2]\n",
    "n = len(message)    # The \n",
    "k = 1    # Maximum number we can tolerate\n",
    "p = 7   # We're working on finite field modulo p\n",
    "Fp = FiniteField(p)\n",
    "enc, dec, solveSystem = makeEncoderDecoder(n + 2 * k, n, p)\n",
    "encoded = enc(message)\n",
    "print(\"The encoded message is:\")\n",
    "print(encoded)"
   ]
  },
  {
   "cell_type": "markdown",
   "metadata": {},
   "source": [
    "### Now feel let's create some general errors by distorting the message\n",
    "Note that $received$ is a list of tuples, and only the 2nd element in the tuple represents the actual message;"
   ]
  },
  {
   "cell_type": "code",
   "execution_count": 10,
   "metadata": {
    "collapsed": false
   },
   "outputs": [
    {
     "name": "stdout",
     "output_type": "stream",
     "text": [
      "The received message is:\n",
      "[2 (mod 7), 3 (mod 7), 2 (mod 7), 2 (mod 7), 3 (mod 7)]\n"
     ]
    }
   ],
   "source": [
    "received = deepcopy(encoded)\n",
    "received[0]=Fp(2)\n",
    "print(\"The received message is:\")\n",
    "print(received)"
   ]
  },
  {
   "cell_type": "markdown",
   "metadata": {},
   "source": [
    "### Now let's decode the message!"
   ]
  },
  {
   "cell_type": "code",
   "execution_count": 11,
   "metadata": {
    "collapsed": false
   },
   "outputs": [
    {
     "name": "stdout",
     "output_type": "stream",
     "text": [
      "\n",
      "e is 1\n",
      "\n",
      "system is:\n",
      "\n",
      "\n",
      "\t[2 (mod 7), 0 (mod 7), 6 (mod 7), 0 (mod 7), 0 (mod 7), 0 (mod 7), 0]\n",
      "\t[3 (mod 7), 3 (mod 7), 6 (mod 7), 6 (mod 7), 6 (mod 7), 6 (mod 7), 0]\n",
      "\t[2 (mod 7), 4 (mod 7), 6 (mod 7), 5 (mod 7), 3 (mod 7), 6 (mod 7), 0]\n",
      "\t[2 (mod 7), 6 (mod 7), 6 (mod 7), 4 (mod 7), 5 (mod 7), 1 (mod 7), 0]\n",
      "\t[3 (mod 7), 5 (mod 7), 6 (mod 7), 3 (mod 7), 5 (mod 7), 6 (mod 7), 0]\n",
      "\t[0 (mod 7), 1 (mod 7), 0 (mod 7), 0 (mod 7), 0 (mod 7), 0 (mod 7), 1 (mod 7)]\n",
      "\n",
      "reduced system is:\n",
      "\n",
      "\n",
      "\t[1 (mod 7), 0 (mod 7), 0 (mod 7), 0 (mod 7), 0 (mod 7), 0 (mod 7), 0 (mod 7)]\n",
      "\t[0 (mod 7), 1 (mod 7), 0 (mod 7), 0 (mod 7), 0 (mod 7), 0 (mod 7), 1 (mod 7)]\n",
      "\t[0 (mod 7), 0 (mod 7), 1 (mod 7), 0 (mod 7), 0 (mod 7), 0 (mod 7), 0 (mod 7)]\n",
      "\t[0 (mod 7), 0 (mod 7), 0 (mod 7), 1 (mod 7), 0 (mod 7), 0 (mod 7), 5 (mod 7)]\n",
      "\t[0 (mod 7), 0 (mod 7), 0 (mod 7), 0 (mod 7), 1 (mod 7), 0 (mod 7), 1 (mod 7)]\n",
      "\t[0 (mod 7), 0 (mod 7), 0 (mod 7), 0 (mod 7), 0 (mod 7), 1 (mod 7), 4 (mod 7)]\n",
      "solution is [0 (mod 7), 1 (mod 7), 0 (mod 7), 5 (mod 7), 1 (mod 7), 4 (mod 7)]\n",
      "Q is 0 + 5 t^1 + 1 t^2 + 4 t^3\n",
      "E is 0 + 1 t^1\n"
     ]
    },
    {
     "data": {
      "text/plain": [
       "[5 (mod 7), 3 (mod 7), 2 (mod 7)]"
      ]
     },
     "execution_count": 11,
     "metadata": {},
     "output_type": "execute_result"
    }
   ],
   "source": [
    "debug = True\n",
    "dec(received)"
   ]
  },
  {
   "cell_type": "code",
   "execution_count": null,
   "metadata": {
    "collapsed": true
   },
   "outputs": [],
   "source": []
  },
  {
   "cell_type": "code",
   "execution_count": null,
   "metadata": {
    "collapsed": true
   },
   "outputs": [],
   "source": []
  }
 ],
 "metadata": {
  "kernelspec": {
   "display_name": "Python 2",
   "language": "python",
   "name": "python2"
  },
  "language_info": {
   "codemirror_mode": {
    "name": "ipython",
    "version": 2
   },
   "file_extension": ".py",
   "mimetype": "text/x-python",
   "name": "python",
   "nbconvert_exporter": "python",
   "pygments_lexer": "ipython2",
   "version": "2.7.10"
  }
 },
 "nbformat": 4,
 "nbformat_minor": 1
}
